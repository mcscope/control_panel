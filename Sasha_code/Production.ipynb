{
 "cells": [
  {
   "cell_type": "code",
   "execution_count": 1,
   "metadata": {},
   "outputs": [],
   "source": [
    "# importing requirements\n",
    "import flux_led_v3"
   ]
  },
  {
   "cell_type": "markdown",
   "metadata": {},
   "source": [
    "# Production Notebook\n",
    "This is the final notebook with all the elements required to run the art installation on the Playa.\n",
    "\n",
    "### Getting IPs of controllers"
   ]
  },
  {
   "cell_type": "code",
   "execution_count": 2,
   "metadata": {},
   "outputs": [],
   "source": [
    "# get the IP addresses of the controllers on your local network\n",
    "def get_controllers():\n",
    "    try:\n",
    "        scanner = flux_led_v3.BulbScanner()\n",
    "        scanner.scan(timeout=2)\n",
    "        bulb_info_list = scanner.getBulbInfo()\n",
    "        # we have a list of buld info dicts\n",
    "        addrs = []\n",
    "        if len(bulb_info_list) > 0 :\n",
    "            for b in bulb_info_list:\n",
    "                addrs.append(b['ipaddr'])\n",
    "        print('Found {} controllers'.format(len(addrs)))\n",
    "        return addrs\n",
    "    except:\n",
    "        # quit so that I don't hold port 48899. if that doesn't work:\n",
    "        # sudo lsof -i:48899\n",
    "        # sudo kill -9 <pid>\n",
    "        quit()"
   ]
  },
  {
   "cell_type": "code",
   "execution_count": 7,
   "metadata": {},
   "outputs": [
    {
     "name": "stdout",
     "output_type": "stream",
     "text": [
      "Found 2 controllers\n"
     ]
    }
   ],
   "source": [
    "ips = get_controllers()"
   ]
  },
  {
   "cell_type": "code",
   "execution_count": 8,
   "metadata": {},
   "outputs": [
    {
     "data": {
      "text/plain": [
       "['172.20.10.5', '172.20.10.4']"
      ]
     },
     "execution_count": 8,
     "metadata": {},
     "output_type": "execute_result"
    }
   ],
   "source": [
    "ips"
   ]
  },
  {
   "cell_type": "markdown",
   "metadata": {},
   "source": [
    "### Setting colors on the lights"
   ]
  },
  {
   "cell_type": "code",
   "execution_count": 6,
   "metadata": {},
   "outputs": [],
   "source": [
    "def set_colors(colors):\n",
    "    bulbs = {}\n",
    "\n",
    "    for ip in ips:\n",
    "        print (\"Handle IP [{}]:\".format(ip))\n",
    "\n",
    "        try:\n",
    "\n",
    "            bulb = flux_led.WifiLedBulb(ip)\n",
    "            bulb.setRgb(colors[0][0],colors[0][1],colors[0][2])\n",
    "            time.sleep(0.1)\n",
    "\n",
    "        except Exception as e:\n",
    "            print (\"Unable to connect to bulb at [{}]: {}\".format(ip,e))\n",
    "            continue\n",
    "    "
   ]
  },
  {
   "cell_type": "code",
   "execution_count": null,
   "metadata": {},
   "outputs": [],
   "source": []
  }
 ],
 "metadata": {
  "kernelspec": {
   "display_name": "Python 3",
   "language": "python",
   "name": "python3"
  },
  "language_info": {
   "codemirror_mode": {
    "name": "ipython",
    "version": 3
   },
   "file_extension": ".py",
   "mimetype": "text/x-python",
   "name": "python",
   "nbconvert_exporter": "python",
   "pygments_lexer": "ipython3",
   "version": "3.7.0"
  }
 },
 "nbformat": 4,
 "nbformat_minor": 2
}
